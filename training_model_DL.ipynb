{
 "cells": [
  {
   "cell_type": "code",
   "execution_count": 27,
   "metadata": {},
   "outputs": [
    {
     "name": "stdout",
     "output_type": "stream",
     "text": [
      "Train on 46 samples, validate on 4 samples\n",
      "Epoch 1/10\n",
      "46/46 [==============================] - 4s 85ms/sample - loss: 345.9807 - accuracy: 0.0217 - val_loss: 546.1946 - val_accuracy: 0.0000e+00\n",
      "Epoch 2/10\n",
      "46/46 [==============================] - 3s 72ms/sample - loss: 455.6343 - accuracy: 0.0000e+00 - val_loss: 92.7007 - val_accuracy: 0.0000e+00\n",
      "Epoch 3/10\n",
      "46/46 [==============================] - 3s 71ms/sample - loss: 80.0812 - accuracy: 0.0217 - val_loss: 12.4138 - val_accuracy: 0.0000e+00\n",
      "Epoch 4/10\n",
      "46/46 [==============================] - 3s 71ms/sample - loss: 9.1142 - accuracy: 0.0435 - val_loss: 3.8409 - val_accuracy: 0.0000e+00\n",
      "Epoch 5/10\n",
      "46/46 [==============================] - 3s 70ms/sample - loss: 3.7871 - accuracy: 0.0870 - val_loss: 5.1888 - val_accuracy: 0.0000e+00\n",
      "Epoch 6/10\n",
      "46/46 [==============================] - 3s 69ms/sample - loss: 4.0649 - accuracy: 0.0217 - val_loss: 4.3034 - val_accuracy: 0.0000e+00\n",
      "Epoch 7/10\n",
      "46/46 [==============================] - 3s 73ms/sample - loss: 3.4537 - accuracy: 0.1522 - val_loss: 4.2376 - val_accuracy: 0.0000e+00\n",
      "Epoch 8/10\n",
      "46/46 [==============================] - 3s 74ms/sample - loss: 3.3512 - accuracy: 0.3043 - val_loss: 4.5790 - val_accuracy: 0.0000e+00\n",
      "Epoch 9/10\n",
      "46/46 [==============================] - 3s 73ms/sample - loss: 3.0163 - accuracy: 0.3478 - val_loss: 5.8867 - val_accuracy: 0.0000e+00\n",
      "Epoch 10/10\n",
      "46/46 [==============================] - 3s 72ms/sample - loss: 2.4667 - accuracy: 0.4130 - val_loss: 7.4163 - val_accuracy: 0.0000e+00\n",
      "WARNING:tensorflow:From C:\\Users\\vitta\\Envs\\PES_AI_PIPS\\lib\\site-packages\\tensorflow_core\\python\\ops\\resource_variable_ops.py:1786: calling BaseResourceVariable.__init__ (from tensorflow.python.ops.resource_variable_ops) with constraint is deprecated and will be removed in a future version.\n",
      "Instructions for updating:\n",
      "If using Keras pass *_constraint arguments to layers.\n",
      "INFO:tensorflow:Assets written to: DL-DWI-100x100-CNN-46-4-val.model\\assets\n"
     ]
    }
   ],
   "source": [
    "import tensorflow as tf\n",
    "from tensorflow.keras.models import Sequential\n",
    "from tensorflow.keras.layers import Dense, Dropout, Activation,Flatten,Conv2D,MaxPooling2D\n",
    "import pickle\n",
    "from tensorflow.keras.callbacks import TensorBoard\n",
    "import time\n",
    "from keras.utils import to_categorical\n",
    "\n",
    "\n",
    "X_train=pickle.load(open(\"X_train.pickle\",\"rb\"))\n",
    "Y_train=pickle.load(open(\"Y_train.pickle\",\"rb\"))\n",
    "X_test=pickle.load(open(\"X_test.pickle\",\"rb\"))\n",
    "Y_test=pickle.load(open(\"Y_test.pickle\",\"rb\"))\n",
    "\n",
    "\n",
    "\n",
    "y_train = to_categorical(Y_train)\n",
    "y_test = to_categorical(Y_test,46)\n",
    "\n",
    "\n",
    "model=Sequential()\n",
    "\n",
    "#first layer\n",
    "\n",
    "model.add(Conv2D(64,(3,3),input_shape=X_train.shape[1:]))\n",
    "model.add(Activation(\"relu\"))\n",
    "model.add(MaxPooling2D(pool_size=(2,2)))\n",
    "\n",
    "#second layer\n",
    "\n",
    "model.add(Conv2D(128,(3,3)))\n",
    "model.add(Activation(\"relu\"))\n",
    "model.add(MaxPooling2D(pool_size=(2,2)))\n",
    "\n",
    "#third layer\n",
    "\n",
    "model.add(Flatten())\n",
    "model.add(Dense(64))\n",
    "model.add(Activation(\"relu\"))\n",
    "\n",
    "#output layer\n",
    "\n",
    "model.add(Dense(46))\n",
    "model.add(Activation(\"softmax\"))\n",
    "\n",
    "model.compile(loss=\"categorical_crossentropy\",\n",
    "              optimizer=\"adam\",\n",
    "              metrics=[\"accuracy\"])\n",
    "\n",
    "model.fit(X_train,y_train,epochs=10,validation_data=(X_test,y_test))\n",
    "model.save('DL-DWI-100x100-CNN-46-4-val.model')\n"
   ]
  },
  {
   "cell_type": "code",
   "execution_count": 3,
   "metadata": {},
   "outputs": [
    {
     "name": "stdout",
     "output_type": "stream",
     "text": [
      "(100, 100, 1)\n"
     ]
    }
   ],
   "source": [
    "print(X_train.shape[1:])"
   ]
  },
  {
   "cell_type": "code",
   "execution_count": null,
   "metadata": {},
   "outputs": [],
   "source": []
  }
 ],
 "metadata": {
  "kernelspec": {
   "display_name": "Python (PES_AI_PIPS)",
   "language": "python",
   "name": "pes_ai_pips"
  },
  "language_info": {
   "codemirror_mode": {
    "name": "ipython",
    "version": 3
   },
   "file_extension": ".py",
   "mimetype": "text/x-python",
   "name": "python",
   "nbconvert_exporter": "python",
   "pygments_lexer": "ipython3",
   "version": "3.7.6"
  }
 },
 "nbformat": 4,
 "nbformat_minor": 4
}
